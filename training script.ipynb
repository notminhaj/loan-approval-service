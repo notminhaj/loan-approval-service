{
 "cells": [
  {
   "cell_type": "code",
   "execution_count": null,
   "id": "de313c56-33ac-49db-ad37-e77a7619908f",
   "metadata": {
    "gather": {
     "logged": 1730545503836
    },
    "tags": []
   },
   "outputs": [],
   "source": [
    "import pandas as pd\n",
    "from azureml.core import Workspace, Dataset\n",
    "\n",
    "# Connect to workspace\n",
    "ws = Workspace.from_config()\n",
    "\n",
    "# Access the dataset (make sure the name here matches the registered dataset name in Azure ML Studio)\n",
    "dataset = Dataset.get_by_name(ws, name='train_data')\n",
    "data = dataset.to_pandas_dataframe()\n"
   ]
  },
  {
   "cell_type": "code",
   "execution_count": null,
   "id": "28802afc-e82c-4a01-b8d2-bbe66b157e79",
   "metadata": {
    "gather": {
     "logged": 1730548606342
    },
    "tags": []
   },
   "outputs": [],
   "source": [
    "print(data.head(12))"
   ]
  },
  {
   "cell_type": "code",
   "execution_count": 32,
   "id": "c53dd3c1-8c16-4740-a77d-ad251bff3f14",
   "metadata": {
    "gather": {
     "logged": 1730545504944
    },
    "tags": []
   },
   "outputs": [],
   "source": [
    "data = pd.get_dummies(data, drop_first=True)"
   ]
  },
  {
   "cell_type": "code",
   "execution_count": null,
   "id": "691a4c0f-0154-410b-9266-c2e0cba24395",
   "metadata": {
    "gather": {
     "logged": 1730545505258
    },
    "tags": []
   },
   "outputs": [],
   "source": [
    "data.info()"
   ]
  },
  {
   "cell_type": "code",
   "execution_count": null,
   "id": "7ff22be4-b7f6-41f7-90a0-eb142b8854a6",
   "metadata": {
    "gather": {
     "logged": 1730545505660
    },
    "tags": []
   },
   "outputs": [],
   "source": [
    "from sklearn.model_selection import train_test_split\n",
    "\n",
    "X = data.drop([\"id\", \"loan_status\"], axis=1)\n",
    "y = data[\"loan_status\"]\n",
    "\n",
    "X_train, X_test, y_train, y_test = train_test_split(X, y, test_size=0.3, random_state=42)\n",
    "\n",
    "from sklearn.preprocessing import StandardScaler\n",
    "\n",
    "# Instantiate the scaler\n",
    "scaler = StandardScaler()\n",
    "\n",
    "# Fit and transform the training data\n",
    "#X_train = scaler.fit_transform(X_train)\n",
    "\n",
    "print(X_train.values[0].tolist())\n",
    "X.columns"
   ]
  },
  {
   "cell_type": "code",
   "execution_count": null,
   "id": "7f6e92f7-d21c-436c-9e75-53158afb1fbc",
   "metadata": {
    "gather": {
     "logged": 1730545507402
    },
    "tags": []
   },
   "outputs": [],
   "source": [
    "from sklearn.ensemble import RandomForestClassifier\n",
    "from sklearn.metrics import accuracy_score\n",
    "\n",
    "model = RandomForestClassifier(n_estimators=100, random_state=42)\n",
    "model.fit(X_train, y_train)\n",
    "\n",
    "# Make predictions\n",
    "y_pred = model.predict(X_test)\n",
    "accuracy = accuracy_score(y_test, y_pred)\n",
    "print(f\"Model Accuracy: {accuracy}\")"
   ]
  },
  {
   "cell_type": "code",
   "execution_count": null,
   "id": "c7026c60-b999-4a2d-906c-eb109f5082af",
   "metadata": {
    "gather": {
     "logged": 1730545507771
    },
    "tags": []
   },
   "outputs": [],
   "source": [
    "'''\n",
    "from sklearn.model_selection import GridSearchCV\n",
    "\n",
    "# Redefine the model\n",
    "model = RandomForestClassifier(random_state=42)\n",
    "\n",
    "# Define the parameter grid\n",
    "param_grid = {\n",
    "    'n_estimators': [50, 100, 150],\n",
    "    'max_depth': [10, 20, 30, None],\n",
    "    'min_samples_split': [2, 5, 10]\n",
    "}\n",
    "\n",
    "# Use RandomizedSearchCV for hyperparameter tuning\n",
    "grid_search = GridSearchCV(estimator=model, param_grid=param_grid, scoring='accuracy', cv=5, n_jobs=-1)\n",
    "\n",
    "# Fit the model with random search\n",
    "grid_search.fit(X_train, y_train)\n",
    "\n",
    "# Print best parameters and best score\n",
    "print(\"Best Parameters:\", random_search.best_params_)\n",
    "print(\"Best Score:\", random_search.best_score_)\n",
    "\n",
    "# Evaluate the tuned model on the test set\n",
    "best_model = random_search.best_estimator_\n",
    "y_pred = best_model.predict(X_test)\n",
    "accuracy = accuracy_score(y_test, y_pred)\n",
    "print(\"Test Set Accuracy:\", accuracy)\n",
    "'''"
   ]
  },
  {
   "cell_type": "code",
   "execution_count": null,
   "id": "098cba24-9b03-4ceb-8a84-93916c1bee60",
   "metadata": {
    "gather": {
     "logged": 1730545508410
    },
    "tags": []
   },
   "outputs": [],
   "source": [
    "test_dataset = Dataset.get_by_name(ws, name='test_data')\n",
    "test_data = test_dataset.to_pandas_dataframe()\n",
    "test_data.head()"
   ]
  },
  {
   "cell_type": "code",
   "execution_count": null,
   "id": "47bc721a-4873-4b4d-b000-91a34a335e4b",
   "metadata": {
    "gather": {
     "logged": 1730545508729
    },
    "tags": []
   },
   "outputs": [],
   "source": [
    "test_data.info()"
   ]
  },
  {
   "cell_type": "code",
   "execution_count": null,
   "id": "ec80d176-8fc6-4eae-8507-edc6178b79bc",
   "metadata": {
    "gather": {
     "logged": 1730545509049
    },
    "tags": []
   },
   "outputs": [],
   "source": [
    "test_data = pd.get_dummies(test_data, drop_first=True)\n",
    "test_data.info()"
   ]
  },
  {
   "cell_type": "code",
   "execution_count": 40,
   "id": "7ccd19f0-dd40-4e76-b186-ebc8c5576238",
   "metadata": {
    "gather": {
     "logged": 1730545509371
    },
    "tags": []
   },
   "outputs": [],
   "source": [
    "# Align test data columns with training data columns\n",
    "X_train_columns = X_train.columns\n",
    "\n",
    "# Add any missing columns in test data\n",
    "for col in X_train_columns:\n",
    "    if col not in test_data.columns:\n",
    "        test_data[col] = 0  # Fill missing columns with 0 (or an appropriate value)\n",
    "\n",
    "# Ensure columns are in the same order\n",
    "test_data = test_data[X_train_columns]\n",
    "#test_data = scaler.transform(test_data)"
   ]
  },
  {
   "cell_type": "code",
   "execution_count": 41,
   "id": "a958e341-f9f6-4c45-b897-2fe3211f34e4",
   "metadata": {
    "gather": {
     "logged": 1730545509967
    },
    "tags": []
   },
   "outputs": [],
   "source": [
    "y_test_pred = model.predict(test_data)"
   ]
  },
  {
   "cell_type": "code",
   "execution_count": null,
   "id": "ae96d29e-72ee-4287-bbbf-05762bb4cca4",
   "metadata": {
    "gather": {
     "logged": 1730545510242
    },
    "tags": []
   },
   "outputs": [],
   "source": [
    "# Creating a Kaggle Submision file\n",
    "\n",
    "# Assuming 'ID' is the identifier in your test data\n",
    "submission = pd.DataFrame({\n",
    "    'id': test_data['id'],  # Replace 'ID' with the actual identifier column name if different\n",
    "    'loan_status': y_test_pred  # Use appropriate name for the prediction column if specified by Kaggle\n",
    "})\n",
    "\n",
    "# Save to CSV\n",
    "submission._to_csv(\"submission.csv\", index=False)\n"
   ]
  },
  {
   "cell_type": "code",
   "execution_count": null,
   "id": "cb112f27-8a6d-477d-955d-79a2cad8148f",
   "metadata": {
    "gather": {
     "logged": 1730545616680
    },
    "tags": []
   },
   "outputs": [],
   "source": [
    "# From here on we work towards deploying the model\n",
    "\n",
    "import joblib\n",
    "from azureml.core import Model, Workspace\n",
    "\n",
    "# Save the model\n",
    "joblib.dump(model, \"loan_approval_model.pkl\")\n",
    "\n",
    "# Register the model\n",
    "ws = Workspace.from_config()\n",
    "model = Model.register(workspace=ws,\n",
    "                       model_path=\"loan_approval_model.pkl\",  # Path to the saved model file\n",
    "                       model_name=\"loan_approval_model\")       # Name to register the model under\n"
   ]
  },
  {
   "cell_type": "code",
   "execution_count": 44,
   "id": "c6b7d11e-b57d-4ccf-9e7a-23cae304521f",
   "metadata": {
    "gather": {
     "logged": 1730545617168
    },
    "tags": []
   },
   "outputs": [],
   "source": [
    "from azureml.core.environment import Environment\n",
    "from azureml.core.conda_dependencies import CondaDependencies\n",
    "\n",
    "# Create the environment\n",
    "env = Environment(name=\"loan-approval-env\")\n",
    "dependencies = CondaDependencies.create(\n",
    "    python_version=\"3.8\",\n",
    "    pip_packages=[\"scikit-learn\", \"pandas\", \"joblib\", \"azureml-core\", \"azureml-defaults\"]\n",
    ")\n",
    "env.python.conda_dependencies = dependencies\n"
   ]
  },
  {
   "cell_type": "code",
   "execution_count": 45,
   "id": "fd4c9b64-19d6-429e-ae1c-37655ad3fe50",
   "metadata": {
    "gather": {
     "logged": 1730545617494
    },
    "tags": []
   },
   "outputs": [],
   "source": [
    "from azureml.core.model import InferenceConfig\n",
    "\n",
    "inference_config = InferenceConfig(entry_script=\"score.py\", environment=env)\n"
   ]
  },
  {
   "cell_type": "code",
   "execution_count": 46,
   "id": "3b99a2fe-1b70-4500-9427-f19e970fa4d8",
   "metadata": {
    "gather": {
     "logged": 1730545617801
    },
    "tags": []
   },
   "outputs": [],
   "source": [
    "from azureml.core.webservice import AciWebservice\n",
    "\n",
    "aci_config = AciWebservice.deploy_configuration(cpu_cores=1, memory_gb=1)\n"
   ]
  },
  {
   "cell_type": "code",
   "execution_count": null,
   "id": "c946b8ef-a96e-4cea-8494-fec977aca50e",
   "metadata": {
    "gather": {
     "logged": 1730545719603
    },
    "tags": []
   },
   "outputs": [],
   "source": [
    "from azureml.core.model import Model\n",
    "\n",
    "# Deploy the model\n",
    "service = Model.deploy(workspace=ws,\n",
    "                       name=\"loan-approval-service\",\n",
    "                       models=[model],\n",
    "                       inference_config=inference_config,\n",
    "                       deployment_config=aci_config)\n",
    "service.wait_for_deployment(show_output=True)\n",
    "print(f\"Service state: {service.state}\")\n",
    "print(f\"Scoring URI: {service.scoring_uri}\")\n"
   ]
  },
  {
   "cell_type": "code",
   "execution_count": null,
   "id": "9e6e7c0e-a76f-4e17-b1c2-50db5bca81cc",
   "metadata": {
    "gather": {
     "logged": 1730551059896
    },
    "tags": []
   },
   "outputs": [],
   "source": [
    "import requests\n",
    "import json\n",
    "\n",
    "# Convert DataFrame to list format\n",
    "sample_data = json.dumps({\"data\": X_train.values[2:3].tolist()})\n",
    "\n",
    "headers = {\"Content-Type\": \"application/json\"}\n",
    "\n",
    "# Send a request to the service\n",
    "response = requests.post(service.scoring_uri, data=sample_data, headers=headers)\n",
    "print(response.json())\n",
    "print(\"actual:\", y_train[2:3].tolist())\n",
    "print(X_train.values[2:3].tolist())"
   ]
  },
  {
   "cell_type": "code",
   "execution_count": null,
   "id": "305a473b-9f16-4738-8d99-7c56481c84f4",
   "metadata": {
    "gather": {
     "logged": 1730545720570
    },
    "tags": []
   },
   "outputs": [],
   "source": [
    "print(f\"Scoring URI: {service.scoring_uri}\")"
   ]
  }
 ],
 "metadata": {
  "kernel_info": {
   "name": "python38-azureml"
  },
  "kernelspec": {
   "display_name": "Python 3.8 - AzureML",
   "language": "python",
   "name": "python38-azureml"
  },
  "language_info": {
   "codemirror_mode": {
    "name": "ipython",
    "version": 3
   },
   "file_extension": ".py",
   "mimetype": "text/x-python",
   "name": "python",
   "nbconvert_exporter": "python",
   "pygments_lexer": "ipython3",
   "version": "3.10.11"
  },
  "microsoft": {
   "host": {
    "AzureML": {
     "notebookHasBeenCompleted": true
    }
   },
   "ms_spell_check": {
    "ms_spell_check_language": "en"
   }
  },
  "nteract": {
   "version": "nteract-front-end@1.0.0"
  }
 },
 "nbformat": 4,
 "nbformat_minor": 5
}
